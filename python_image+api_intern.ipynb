{
  "nbformat": 4,
  "nbformat_minor": 0,
  "metadata": {
    "colab": {
      "provenance": []
    },
    "kernelspec": {
      "name": "python3",
      "display_name": "Python 3"
    },
    "language_info": {
      "name": "python"
    }
  },
  "cells": [
    {
      "cell_type": "code",
      "execution_count": 6,
      "metadata": {
        "colab": {
          "base_uri": "https://localhost:8080/"
        },
        "id": "a6TV9TIu9jUX",
        "outputId": "e65bd4c2-4ff6-4dd4-9600-70dd2a6eecd2"
      },
      "outputs": [
        {
          "output_type": "stream",
          "name": "stdout",
          "text": [
            "Requirement already satisfied: Flask in /usr/local/lib/python3.10/dist-packages (2.2.5)\n",
            "Requirement already satisfied: opencv-python in /usr/local/lib/python3.10/dist-packages (4.10.0.84)\n",
            "Requirement already satisfied: fpdf2 in /usr/local/lib/python3.10/dist-packages (2.8.1)\n",
            "Requirement already satisfied: pyngrok in /usr/local/lib/python3.10/dist-packages (7.2.0)\n",
            "Requirement already satisfied: Werkzeug>=2.2.2 in /usr/local/lib/python3.10/dist-packages (from Flask) (3.0.6)\n",
            "Requirement already satisfied: Jinja2>=3.0 in /usr/local/lib/python3.10/dist-packages (from Flask) (3.1.4)\n",
            "Requirement already satisfied: itsdangerous>=2.0 in /usr/local/lib/python3.10/dist-packages (from Flask) (2.2.0)\n",
            "Requirement already satisfied: click>=8.0 in /usr/local/lib/python3.10/dist-packages (from Flask) (8.1.7)\n",
            "Requirement already satisfied: numpy>=1.21.2 in /usr/local/lib/python3.10/dist-packages (from opencv-python) (1.26.4)\n",
            "Requirement already satisfied: defusedxml in /usr/local/lib/python3.10/dist-packages (from fpdf2) (0.7.1)\n",
            "Requirement already satisfied: Pillow!=9.2.*,>=6.2.2 in /usr/local/lib/python3.10/dist-packages (from fpdf2) (10.4.0)\n",
            "Requirement already satisfied: fonttools>=4.34.0 in /usr/local/lib/python3.10/dist-packages (from fpdf2) (4.54.1)\n",
            "Requirement already satisfied: PyYAML>=5.1 in /usr/local/lib/python3.10/dist-packages (from pyngrok) (6.0.2)\n",
            "Requirement already satisfied: MarkupSafe>=2.0 in /usr/local/lib/python3.10/dist-packages (from Jinja2>=3.0->Flask) (3.0.2)\n"
          ]
        }
      ],
      "source": [
        "!pip install Flask opencv-python fpdf2 pyngrok\n"
      ]
    },
    {
      "cell_type": "code",
      "source": [
        "!ngrok authtoken 2oEi8Fh3Cp4IYkfrnW6DintfSls_7ND39YaKYQxpFM5Q1c4Dw\n"
      ],
      "metadata": {
        "colab": {
          "base_uri": "https://localhost:8080/"
        },
        "id": "k3c_t7Qb9kq6",
        "outputId": "9ae8d885-faaf-4441-8fc9-83f45fd78a75"
      },
      "execution_count": 7,
      "outputs": [
        {
          "output_type": "stream",
          "name": "stdout",
          "text": [
            "Authtoken saved to configuration file: /root/.config/ngrok/ngrok.yml\n"
          ]
        }
      ]
    },
    {
      "cell_type": "code",
      "source": [
        "from flask import Flask, request, jsonify\n",
        "import cv2\n",
        "from fpdf import FPDF\n",
        "from pyngrok import ngrok\n",
        "import os\n",
        "\n",
        "app = Flask(__name__)\n",
        "\n",
        "@app.route('/upload', methods=['POST'])\n",
        "def upload_image():\n",
        "    if 'file' not in request.files:\n",
        "        return jsonify({\"error\": \"No file part\"}), 400\n",
        "    file = request.files['file']\n",
        "    if file.filename == '':\n",
        "        return jsonify({\"error\": \"No selected file\"}), 400\n",
        "\n",
        "    image_name = file.filename\n",
        "    file.save(image_name)  # Save the uploaded file\n",
        "    print(f\"Uploaded image saved as: {image_name}\")\n",
        "\n",
        "    # Read the image using OpenCV\n",
        "    img = cv2.imread(image_name)\n",
        "    if img is None:\n",
        "        return jsonify({\"error\": \"Invalid image file\"}), 400\n",
        "\n",
        "    # Overlay the image name at the bottom of the image\n",
        "    overlay_text = image_name  # Change this to whatever text you want\n",
        "    cv2.putText(img, overlay_text, (10, img.shape[0] - 10),\n",
        "                cv2.FONT_HERSHEY_SIMPLEX, 1, (255, 255, 255), 2)\n",
        "\n",
        "    # Save the modified image\n",
        "    modified_image_path = f'modified_{image_name}'\n",
        "    cv2.imwrite(modified_image_path, img)\n",
        "    print(f\"Modified image saved at: {modified_image_path}\")\n",
        "\n",
        "    # Optional: Convert the image to PDF\n",
        "    pdf_output_path = None\n",
        "    if request.args.get('generate_pdf', 'false').lower() == 'true':\n",
        "        pdf = FPDF()\n",
        "        pdf.add_page()\n",
        "        pdf.image(modified_image_path, x=10, y=10, w=100)\n",
        "        pdf_output_path = f'output_{image_name}.pdf'\n",
        "        pdf.output(pdf_output_path)  # Save the PDF\n",
        "        print(f\"PDF output saved at: {pdf_output_path}\")\n",
        "\n",
        "    # Prepare response\n",
        "    response = {\n",
        "        \"message\": \"Image processed successfully\",\n",
        "        \"image_link\": modified_image_path,\n",
        "    }\n",
        "    if pdf_output_path:\n",
        "        response[\"pdf_link\"] = pdf_output_path\n",
        "\n",
        "    return jsonify(response), 200\n",
        "\n",
        "if __name__ == '__main__':\n",
        "    # Run ngrok to get a public URL\n",
        "    public_url = ngrok.connect(5000)\n",
        "    print(\"Public URL:\", public_url)\n",
        "\n",
        "    # Run the Flask app\n",
        "    app.run(port=5000)\n"
      ],
      "metadata": {
        "colab": {
          "base_uri": "https://localhost:8080/"
        },
        "id": "s7SlOLYb-i1B",
        "outputId": "78fd3309-f833-4135-d170-bcf27cb08a0e"
      },
      "execution_count": 8,
      "outputs": [
        {
          "output_type": "stream",
          "name": "stdout",
          "text": [
            "Public URL: NgrokTunnel: \"https://1d7b-34-48-93-175.ngrok-free.app\" -> \"http://localhost:5000\"\n",
            " * Serving Flask app '__main__'\n",
            " * Debug mode: off\n"
          ]
        },
        {
          "output_type": "stream",
          "name": "stderr",
          "text": [
            "INFO:werkzeug:\u001b[31m\u001b[1mWARNING: This is a development server. Do not use it in a production deployment. Use a production WSGI server instead.\u001b[0m\n",
            " * Running on http://127.0.0.1:5000\n",
            "INFO:werkzeug:\u001b[33mPress CTRL+C to quit\u001b[0m\n",
            "INFO:werkzeug:127.0.0.1 - - [01/Nov/2024 09:07:47] \"POST /upload?generate_pdf=true HTTP/1.1\" 200 -\n"
          ]
        },
        {
          "output_type": "stream",
          "name": "stdout",
          "text": [
            "Uploaded image saved as: rrr.jpg\n",
            "Modified image saved at: modified_rrr.jpg\n",
            "PDF output saved at: output_rrr.jpg.pdf\n"
          ]
        },
        {
          "output_type": "stream",
          "name": "stderr",
          "text": [
            "INFO:werkzeug:127.0.0.1 - - [01/Nov/2024 09:07:50] \"POST /upload?generate_pdf=true HTTP/1.1\" 200 -\n"
          ]
        },
        {
          "output_type": "stream",
          "name": "stdout",
          "text": [
            "Uploaded image saved as: rrr.jpg\n",
            "Modified image saved at: modified_rrr.jpg\n",
            "PDF output saved at: output_rrr.jpg.pdf\n"
          ]
        }
      ]
    }
  ]
}